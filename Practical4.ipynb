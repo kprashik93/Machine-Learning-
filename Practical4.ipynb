{
  "nbformat": 4,
  "nbformat_minor": 0,
  "metadata": {
    "colab": {
      "name": "Practical4.ipynb",
      "provenance": [],
      "authorship_tag": "ABX9TyNSBVfOPA7RJmbHsTLGKh3a",
      "include_colab_link": true
    },
    "kernelspec": {
      "name": "python3",
      "display_name": "Python 3"
    },
    "language_info": {
      "name": "python"
    }
  },
  "cells": [
    {
      "cell_type": "markdown",
      "metadata": {
        "id": "view-in-github",
        "colab_type": "text"
      },
      "source": [
        "<a href=\"https://colab.research.google.com/github/kprashik93/Machine-Learning-/blob/main/Practical4.ipynb\" target=\"_parent\"><img src=\"https://colab.research.google.com/assets/colab-badge.svg\" alt=\"Open In Colab\"/></a>"
      ]
    },
    {
      "cell_type": "code",
      "source": [
        "import pandas as pd\n",
        "import numpy as np\n",
        "import statsmodels.api as sm\n",
        "import seaborn as sns\n",
        "import matplotlib.pyplot as plt\n",
        "import math\n",
        " \n",
        "df = pd.read_csv('/AttendanceMarksSA.csv') \n",
        "df.head() \n",
        "df.describe()"
      ],
      "metadata": {
        "colab": {
          "base_uri": "https://localhost:8080/",
          "height": 300
        },
        "id": "kyQHIMRoDhbl",
        "outputId": "f2781dcd-057e-4d1c-bb44-5f1395ce142d"
      },
      "execution_count": 2,
      "outputs": [
        {
          "output_type": "execute_result",
          "data": {
            "text/html": [
              "\n",
              "  <div id=\"df-6ed37e27-4677-4f6f-964a-0a2b1f6cff18\">\n",
              "    <div class=\"colab-df-container\">\n",
              "      <div>\n",
              "<style scoped>\n",
              "    .dataframe tbody tr th:only-of-type {\n",
              "        vertical-align: middle;\n",
              "    }\n",
              "\n",
              "    .dataframe tbody tr th {\n",
              "        vertical-align: top;\n",
              "    }\n",
              "\n",
              "    .dataframe thead th {\n",
              "        text-align: right;\n",
              "    }\n",
              "</style>\n",
              "<table border=\"1\" class=\"dataframe\">\n",
              "  <thead>\n",
              "    <tr style=\"text-align: right;\">\n",
              "      <th></th>\n",
              "      <th>Attendance</th>\n",
              "      <th>MSE</th>\n",
              "      <th>ESE</th>\n",
              "    </tr>\n",
              "  </thead>\n",
              "  <tbody>\n",
              "    <tr>\n",
              "      <th>count</th>\n",
              "      <td>73.000000</td>\n",
              "      <td>73.000000</td>\n",
              "      <td>73.000000</td>\n",
              "    </tr>\n",
              "    <tr>\n",
              "      <th>mean</th>\n",
              "      <td>81.698630</td>\n",
              "      <td>9.780822</td>\n",
              "      <td>46.630137</td>\n",
              "    </tr>\n",
              "    <tr>\n",
              "      <th>std</th>\n",
              "      <td>9.506847</td>\n",
              "      <td>3.047069</td>\n",
              "      <td>6.617542</td>\n",
              "    </tr>\n",
              "    <tr>\n",
              "      <th>min</th>\n",
              "      <td>62.000000</td>\n",
              "      <td>3.000000</td>\n",
              "      <td>32.000000</td>\n",
              "    </tr>\n",
              "    <tr>\n",
              "      <th>25%</th>\n",
              "      <td>75.000000</td>\n",
              "      <td>8.000000</td>\n",
              "      <td>42.000000</td>\n",
              "    </tr>\n",
              "    <tr>\n",
              "      <th>50%</th>\n",
              "      <td>80.000000</td>\n",
              "      <td>10.000000</td>\n",
              "      <td>47.000000</td>\n",
              "    </tr>\n",
              "    <tr>\n",
              "      <th>75%</th>\n",
              "      <td>90.000000</td>\n",
              "      <td>11.000000</td>\n",
              "      <td>50.000000</td>\n",
              "    </tr>\n",
              "    <tr>\n",
              "      <th>max</th>\n",
              "      <td>98.000000</td>\n",
              "      <td>17.000000</td>\n",
              "      <td>64.000000</td>\n",
              "    </tr>\n",
              "  </tbody>\n",
              "</table>\n",
              "</div>\n",
              "      <button class=\"colab-df-convert\" onclick=\"convertToInteractive('df-6ed37e27-4677-4f6f-964a-0a2b1f6cff18')\"\n",
              "              title=\"Convert this dataframe to an interactive table.\"\n",
              "              style=\"display:none;\">\n",
              "        \n",
              "  <svg xmlns=\"http://www.w3.org/2000/svg\" height=\"24px\"viewBox=\"0 0 24 24\"\n",
              "       width=\"24px\">\n",
              "    <path d=\"M0 0h24v24H0V0z\" fill=\"none\"/>\n",
              "    <path d=\"M18.56 5.44l.94 2.06.94-2.06 2.06-.94-2.06-.94-.94-2.06-.94 2.06-2.06.94zm-11 1L8.5 8.5l.94-2.06 2.06-.94-2.06-.94L8.5 2.5l-.94 2.06-2.06.94zm10 10l.94 2.06.94-2.06 2.06-.94-2.06-.94-.94-2.06-.94 2.06-2.06.94z\"/><path d=\"M17.41 7.96l-1.37-1.37c-.4-.4-.92-.59-1.43-.59-.52 0-1.04.2-1.43.59L10.3 9.45l-7.72 7.72c-.78.78-.78 2.05 0 2.83L4 21.41c.39.39.9.59 1.41.59.51 0 1.02-.2 1.41-.59l7.78-7.78 2.81-2.81c.8-.78.8-2.07 0-2.86zM5.41 20L4 18.59l7.72-7.72 1.47 1.35L5.41 20z\"/>\n",
              "  </svg>\n",
              "      </button>\n",
              "      \n",
              "  <style>\n",
              "    .colab-df-container {\n",
              "      display:flex;\n",
              "      flex-wrap:wrap;\n",
              "      gap: 12px;\n",
              "    }\n",
              "\n",
              "    .colab-df-convert {\n",
              "      background-color: #E8F0FE;\n",
              "      border: none;\n",
              "      border-radius: 50%;\n",
              "      cursor: pointer;\n",
              "      display: none;\n",
              "      fill: #1967D2;\n",
              "      height: 32px;\n",
              "      padding: 0 0 0 0;\n",
              "      width: 32px;\n",
              "    }\n",
              "\n",
              "    .colab-df-convert:hover {\n",
              "      background-color: #E2EBFA;\n",
              "      box-shadow: 0px 1px 2px rgba(60, 64, 67, 0.3), 0px 1px 3px 1px rgba(60, 64, 67, 0.15);\n",
              "      fill: #174EA6;\n",
              "    }\n",
              "\n",
              "    [theme=dark] .colab-df-convert {\n",
              "      background-color: #3B4455;\n",
              "      fill: #D2E3FC;\n",
              "    }\n",
              "\n",
              "    [theme=dark] .colab-df-convert:hover {\n",
              "      background-color: #434B5C;\n",
              "      box-shadow: 0px 1px 3px 1px rgba(0, 0, 0, 0.15);\n",
              "      filter: drop-shadow(0px 1px 2px rgba(0, 0, 0, 0.3));\n",
              "      fill: #FFFFFF;\n",
              "    }\n",
              "  </style>\n",
              "\n",
              "      <script>\n",
              "        const buttonEl =\n",
              "          document.querySelector('#df-6ed37e27-4677-4f6f-964a-0a2b1f6cff18 button.colab-df-convert');\n",
              "        buttonEl.style.display =\n",
              "          google.colab.kernel.accessAllowed ? 'block' : 'none';\n",
              "\n",
              "        async function convertToInteractive(key) {\n",
              "          const element = document.querySelector('#df-6ed37e27-4677-4f6f-964a-0a2b1f6cff18');\n",
              "          const dataTable =\n",
              "            await google.colab.kernel.invokeFunction('convertToInteractive',\n",
              "                                                     [key], {});\n",
              "          if (!dataTable) return;\n",
              "\n",
              "          const docLinkHtml = 'Like what you see? Visit the ' +\n",
              "            '<a target=\"_blank\" href=https://colab.research.google.com/notebooks/data_table.ipynb>data table notebook</a>'\n",
              "            + ' to learn more about interactive tables.';\n",
              "          element.innerHTML = '';\n",
              "          dataTable['output_type'] = 'display_data';\n",
              "          await google.colab.output.renderOutput(dataTable, element);\n",
              "          const docLink = document.createElement('div');\n",
              "          docLink.innerHTML = docLinkHtml;\n",
              "          element.appendChild(docLink);\n",
              "        }\n",
              "      </script>\n",
              "    </div>\n",
              "  </div>\n",
              "  "
            ],
            "text/plain": [
              "       Attendance        MSE        ESE\n",
              "count   73.000000  73.000000  73.000000\n",
              "mean    81.698630   9.780822  46.630137\n",
              "std      9.506847   3.047069   6.617542\n",
              "min     62.000000   3.000000  32.000000\n",
              "25%     75.000000   8.000000  42.000000\n",
              "50%     80.000000  10.000000  47.000000\n",
              "75%     90.000000  11.000000  50.000000\n",
              "max     98.000000  17.000000  64.000000"
            ]
          },
          "metadata": {},
          "execution_count": 2
        }
      ]
    },
    {
      "cell_type": "code",
      "source": [
        "corr = df.corr() \n",
        "corr.style.background_gradient(cmap='coolwarm')"
      ],
      "metadata": {
        "colab": {
          "base_uri": "https://localhost:8080/",
          "height": 143
        },
        "id": "e2MmDx41Dhdd",
        "outputId": "701f5be5-eaa2-4167-fbe6-192116c1c93d"
      },
      "execution_count": 3,
      "outputs": [
        {
          "output_type": "execute_result",
          "data": {
            "text/html": [
              "<style  type=\"text/css\" >\n",
              "#T_26684616_693b_11ec_b67f_0242ac1c0002row0_col0,#T_26684616_693b_11ec_b67f_0242ac1c0002row1_col1,#T_26684616_693b_11ec_b67f_0242ac1c0002row2_col2{\n",
              "            background-color:  #b40426;\n",
              "            color:  #f1f1f1;\n",
              "        }#T_26684616_693b_11ec_b67f_0242ac1c0002row0_col1,#T_26684616_693b_11ec_b67f_0242ac1c0002row0_col2,#T_26684616_693b_11ec_b67f_0242ac1c0002row2_col0{\n",
              "            background-color:  #3b4cc0;\n",
              "            color:  #f1f1f1;\n",
              "        }#T_26684616_693b_11ec_b67f_0242ac1c0002row1_col0{\n",
              "            background-color:  #4257c9;\n",
              "            color:  #f1f1f1;\n",
              "        }#T_26684616_693b_11ec_b67f_0242ac1c0002row1_col2{\n",
              "            background-color:  #f18f71;\n",
              "            color:  #000000;\n",
              "        }#T_26684616_693b_11ec_b67f_0242ac1c0002row2_col1{\n",
              "            background-color:  #f29072;\n",
              "            color:  #000000;\n",
              "        }</style><table id=\"T_26684616_693b_11ec_b67f_0242ac1c0002\" class=\"dataframe\"><thead>    <tr>        <th class=\"blank level0\" ></th>        <th class=\"col_heading level0 col0\" >Attendance</th>        <th class=\"col_heading level0 col1\" >MSE</th>        <th class=\"col_heading level0 col2\" >ESE</th>    </tr></thead><tbody>\n",
              "                <tr>\n",
              "                        <th id=\"T_26684616_693b_11ec_b67f_0242ac1c0002level0_row0\" class=\"row_heading level0 row0\" >Attendance</th>\n",
              "                        <td id=\"T_26684616_693b_11ec_b67f_0242ac1c0002row0_col0\" class=\"data row0 col0\" >1.000000</td>\n",
              "                        <td id=\"T_26684616_693b_11ec_b67f_0242ac1c0002row0_col1\" class=\"data row0 col1\" >-0.080943</td>\n",
              "                        <td id=\"T_26684616_693b_11ec_b67f_0242ac1c0002row0_col2\" class=\"data row0 col2\" >-0.109972</td>\n",
              "            </tr>\n",
              "            <tr>\n",
              "                        <th id=\"T_26684616_693b_11ec_b67f_0242ac1c0002level0_row1\" class=\"row_heading level0 row1\" >MSE</th>\n",
              "                        <td id=\"T_26684616_693b_11ec_b67f_0242ac1c0002row1_col0\" class=\"data row1 col0\" >-0.080943</td>\n",
              "                        <td id=\"T_26684616_693b_11ec_b67f_0242ac1c0002row1_col1\" class=\"data row1 col1\" >1.000000</td>\n",
              "                        <td id=\"T_26684616_693b_11ec_b67f_0242ac1c0002row1_col2\" class=\"data row1 col2\" >0.751530</td>\n",
              "            </tr>\n",
              "            <tr>\n",
              "                        <th id=\"T_26684616_693b_11ec_b67f_0242ac1c0002level0_row2\" class=\"row_heading level0 row2\" >ESE</th>\n",
              "                        <td id=\"T_26684616_693b_11ec_b67f_0242ac1c0002row2_col0\" class=\"data row2 col0\" >-0.109972</td>\n",
              "                        <td id=\"T_26684616_693b_11ec_b67f_0242ac1c0002row2_col1\" class=\"data row2 col1\" >0.751530</td>\n",
              "                        <td id=\"T_26684616_693b_11ec_b67f_0242ac1c0002row2_col2\" class=\"data row2 col2\" >1.000000</td>\n",
              "            </tr>\n",
              "    </tbody></table>"
            ],
            "text/plain": [
              "<pandas.io.formats.style.Styler at 0x7fbfb5464990>"
            ]
          },
          "metadata": {},
          "execution_count": 3
        }
      ]
    },
    {
      "cell_type": "code",
      "source": [
        "X=df[\"MSE\"]\n",
        "Y=df[\"ESE\"]\n",
        " \n",
        "sns.scatterplot(X, Y)"
      ],
      "metadata": {
        "colab": {
          "base_uri": "https://localhost:8080/",
          "height": 352
        },
        "id": "I50upA9HDhfV",
        "outputId": "8647ba98-bc9c-4704-84a9-4b88f6b49c96"
      },
      "execution_count": 4,
      "outputs": [
        {
          "output_type": "stream",
          "name": "stderr",
          "text": [
            "/usr/local/lib/python3.7/dist-packages/seaborn/_decorators.py:43: FutureWarning: Pass the following variables as keyword args: x, y. From version 0.12, the only valid positional argument will be `data`, and passing other arguments without an explicit keyword will result in an error or misinterpretation.\n",
            "  FutureWarning\n"
          ]
        },
        {
          "output_type": "execute_result",
          "data": {
            "text/plain": [
              "<matplotlib.axes._subplots.AxesSubplot at 0x7fbfb559de50>"
            ]
          },
          "metadata": {},
          "execution_count": 4
        },
        {
          "output_type": "display_data",
          "data": {
            "image/png": "[encoded data removed]",
            "text/plain": [
              "<Figure size 432x288 with 1 Axes>"
            ]
          },
          "metadata": {
            "needs_background": "light"
          }
        }
      ]
    },
    {
      "cell_type": "code",
      "source": [
        "endog = df[\"ESE\"]\n",
        "exog = sm.add_constant(df[['MSE']]) \n",
        "print(exog)"
      ],
      "metadata": {
        "colab": {
          "base_uri": "https://localhost:8080/"
        },
        "id": "djBNqxB4DhiD",
        "outputId": "b548ec46-d198-4358-8ad7-f3d983a0fd2a"
      },
      "execution_count": 5,
      "outputs": [
        {
          "output_type": "stream",
          "name": "stdout",
          "text": [
            "    const  MSE\n",
            "0     1.0   10\n",
            "1     1.0    7\n",
            "2     1.0    3\n",
            "3     1.0   16\n",
            "4     1.0    9\n",
            "..    ...  ...\n",
            "68    1.0   10\n",
            "69    1.0    8\n",
            "70    1.0    9\n",
            "71    1.0   11\n",
            "72    1.0   12\n",
            "\n",
            "[73 rows x 2 columns]\n"
          ]
        }
      ]
    },
    {
      "cell_type": "code",
      "source": [
        "mod = sm.OLS(endog, exog) \n",
        "results = mod.fit() \n",
        "print(results.summary())"
      ],
      "metadata": {
        "colab": {
          "base_uri": "https://localhost:8080/"
        },
        "id": "cYJl2oLIDhjW",
        "outputId": "b0167542-c160-46e2-bb15-1130314d3747"
      },
      "execution_count": 6,
      "outputs": [
        {
          "output_type": "stream",
          "name": "stdout",
          "text": [
            "                            OLS Regression Results                            \n",
            "==============================================================================\n",
            "Dep. Variable:                    ESE   R-squared:                       0.565\n",
            "Model:                            OLS   Adj. R-squared:                  0.559\n",
            "Method:                 Least Squares   F-statistic:                     92.14\n",
            "Date:                Thu, 30 Dec 2021   Prob (F-statistic):           1.85e-14\n",
            "Time:                        06:40:30   Log-Likelihood:                -210.66\n",
            "No. Observations:                  73   AIC:                             425.3\n",
            "Df Residuals:                      71   BIC:                             429.9\n",
            "Df Model:                           1                                         \n",
            "Covariance Type:            nonrobust                                         \n",
            "==============================================================================\n",
            "                 coef    std err          t      P>|t|      [0.025      0.975]\n",
            "------------------------------------------------------------------------------\n",
            "const         30.6664      1.741     17.616      0.000      27.195      34.137\n",
            "MSE            1.6322      0.170      9.599      0.000       1.293       1.971\n",
            "==============================================================================\n",
            "Omnibus:                        1.412   Durbin-Watson:                   1.441\n",
            "Prob(Omnibus):                  0.494   Jarque-Bera (JB):                1.119\n",
            "Skew:                          -0.029   Prob(JB):                        0.572\n",
            "Kurtosis:                       2.396   Cond. No.                         34.9\n",
            "==============================================================================\n",
            "\n",
            "Warnings:\n",
            "[1] Standard Errors assume that the covariance matrix of the errors is correctly specified.\n"
          ]
        }
      ]
    },
    {
      "cell_type": "code",
      "source": [
        "def RSE(y_true, y_predicted):\n",
        "  y_true = np.array(y_true) \n",
        "  y_predicted = np.array(y_predicted) \n",
        "  RSS = np.sum(np.square(y_true - y_predicted)) \n",
        "  rse = math.sqrt(RSS / (len(y_true) - 2))\n",
        "  return rse"
      ],
      "metadata": {
        "id": "lA4WHks6DhlZ"
      },
      "execution_count": 7,
      "outputs": []
    },
    {
      "cell_type": "code",
      "source": [
        "rse = RSE(df['ESE'],results.predict())\n",
        "print(rse)"
      ],
      "metadata": {
        "colab": {
          "base_uri": "https://localhost:8080/"
        },
        "id": "aBf2J8QBDhnz",
        "outputId": "97eb13bb-8db0-4f90-a393-0f19922d8b30"
      },
      "execution_count": 8,
      "outputs": [
        {
          "output_type": "stream",
          "name": "stdout",
          "text": [
            "4.396224549647787\n"
          ]
        }
      ]
    },
    {
      "cell_type": "code",
      "source": [
        "endog1 = df['ESE']\n",
        "exog1 = sm.add_constant(df[['Attendance']]) \n",
        "print(exog)"
      ],
      "metadata": {
        "colab": {
          "base_uri": "https://localhost:8080/"
        },
        "id": "9t3anjwhDhpY",
        "outputId": "f727bffd-2f6f-4096-a3ab-b67450d9dff8"
      },
      "execution_count": 9,
      "outputs": [
        {
          "output_type": "stream",
          "name": "stdout",
          "text": [
            "    const  MSE\n",
            "0     1.0   10\n",
            "1     1.0    7\n",
            "2     1.0    3\n",
            "3     1.0   16\n",
            "4     1.0    9\n",
            "..    ...  ...\n",
            "68    1.0   10\n",
            "69    1.0    8\n",
            "70    1.0    9\n",
            "71    1.0   11\n",
            "72    1.0   12\n",
            "\n",
            "[73 rows x 2 columns]\n"
          ]
        }
      ]
    },
    {
      "cell_type": "code",
      "source": [
        "mod1 = sm.OLS(endog,exog1) \n",
        "results1 = mod1.fit() \n",
        "print(results1.summary())"
      ],
      "metadata": {
        "colab": {
          "base_uri": "https://localhost:8080/"
        },
        "id": "BFrKX_F6DhrH",
        "outputId": "db807b9c-c0bc-475a-c837-ff1159fbc73c"
      },
      "execution_count": 10,
      "outputs": [
        {
          "output_type": "stream",
          "name": "stdout",
          "text": [
            "                            OLS Regression Results                            \n",
            "==============================================================================\n",
            "Dep. Variable:                    ESE   R-squared:                       0.012\n",
            "Model:                            OLS   Adj. R-squared:                 -0.002\n",
            "Method:                 Least Squares   F-statistic:                    0.8692\n",
            "Date:                Thu, 30 Dec 2021   Prob (F-statistic):              0.354\n",
            "Time:                        06:40:42   Log-Likelihood:                -240.58\n",
            "No. Observations:                  73   AIC:                             485.2\n",
            "Df Residuals:                      71   BIC:                             489.8\n",
            "Df Model:                           1                                         \n",
            "Covariance Type:            nonrobust                                         \n",
            "==============================================================================\n",
            "                 coef    std err          t      P>|t|      [0.025      0.975]\n",
            "------------------------------------------------------------------------------\n",
            "const         52.8841      6.753      7.831      0.000      39.419      66.349\n",
            "Attendance    -0.0765      0.082     -0.932      0.354      -0.240       0.087\n",
            "==============================================================================\n",
            "Omnibus:                        0.286   Durbin-Watson:                   1.788\n",
            "Prob(Omnibus):                  0.867   Jarque-Bera (JB):                0.425\n",
            "Skew:                           0.129   Prob(JB):                        0.808\n",
            "Kurtosis:                       2.730   Cond. No.                         716.\n",
            "==============================================================================\n",
            "\n",
            "Warnings:\n",
            "[1] Standard Errors assume that the covariance matrix of the errors is correctly specified.\n"
          ]
        }
      ]
    }
  ]
}